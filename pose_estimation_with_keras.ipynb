{
 "cells": [
  {
   "cell_type": "code",
   "execution_count": 1,
   "id": "5928b576",
   "metadata": {},
   "outputs": [
    {
     "name": "stdout",
     "output_type": "stream",
     "text": [
      "Requirement already satisfied: mediapipe in c:\\users\\monster\\appdata\\roaming\\python\\python39\\site-packages (0.10.3)\n",
      "Requirement already satisfied: protobuf<4,>=3.11 in c:\\users\\monster\\anaconda3\\lib\\site-packages (from mediapipe) (3.20.3)\n",
      "Requirement already satisfied: absl-py in c:\\users\\monster\\anaconda3\\lib\\site-packages (from mediapipe) (1.2.0)Note: you may need to restart the kernel to use updated packages.\n",
      "\n",
      "Requirement already satisfied: attrs>=19.1.0 in c:\\users\\monster\\anaconda3\\lib\\site-packages (from mediapipe) (21.4.0)\n",
      "Requirement already satisfied: numpy in c:\\users\\monster\\anaconda3\\lib\\site-packages (from mediapipe) (1.21.5)\n",
      "Requirement already satisfied: matplotlib in c:\\users\\monster\\anaconda3\\lib\\site-packages (from mediapipe) (3.5.1)\n",
      "Requirement already satisfied: sounddevice>=0.4.4 in c:\\users\\monster\\appdata\\roaming\\python\\python39\\site-packages (from mediapipe) (0.4.6)\n",
      "Requirement already satisfied: opencv-contrib-python in c:\\users\\monster\\appdata\\roaming\\python\\python39\\site-packages (from mediapipe) (4.8.0.76)\n",
      "Requirement already satisfied: flatbuffers>=2.0 in c:\\users\\monster\\anaconda3\\lib\\site-packages (from mediapipe) (22.9.24)\n",
      "Requirement already satisfied: CFFI>=1.0 in c:\\users\\monster\\anaconda3\\lib\\site-packages (from sounddevice>=0.4.4->mediapipe) (1.15.1)\n",
      "Requirement already satisfied: fonttools>=4.22.0 in c:\\users\\monster\\anaconda3\\lib\\site-packages (from matplotlib->mediapipe) (4.25.0)\n",
      "Requirement already satisfied: pillow>=6.2.0 in c:\\users\\monster\\anaconda3\\lib\\site-packages (from matplotlib->mediapipe) (9.2.0)\n",
      "Requirement already satisfied: packaging>=20.0 in c:\\users\\monster\\anaconda3\\lib\\site-packages (from matplotlib->mediapipe) (21.3)\n",
      "Requirement already satisfied: kiwisolver>=1.0.1 in c:\\users\\monster\\anaconda3\\lib\\site-packages (from matplotlib->mediapipe) (1.4.2)\n",
      "Requirement already satisfied: python-dateutil>=2.7 in c:\\users\\monster\\anaconda3\\lib\\site-packages (from matplotlib->mediapipe) (2.8.2)\n",
      "Requirement already satisfied: pyparsing>=2.2.1 in c:\\users\\monster\\anaconda3\\lib\\site-packages (from matplotlib->mediapipe) (3.0.4)\n",
      "Requirement already satisfied: cycler>=0.10 in c:\\users\\monster\\anaconda3\\lib\\site-packages (from matplotlib->mediapipe) (0.11.0)\n",
      "Requirement already satisfied: pycparser in c:\\users\\monster\\anaconda3\\lib\\site-packages (from CFFI>=1.0->sounddevice>=0.4.4->mediapipe) (2.21)\n",
      "Requirement already satisfied: six>=1.5 in c:\\users\\monster\\anaconda3\\lib\\site-packages (from python-dateutil>=2.7->matplotlib->mediapipe) (1.16.0)\n"
     ]
    }
   ],
   "source": [
    "pip install mediapipe --user\n"
   ]
  },
  {
   "cell_type": "code",
   "execution_count": 4,
   "id": "513f4d66",
   "metadata": {},
   "outputs": [
    {
     "name": "stdout",
     "output_type": "stream",
     "text": [
      "Requirement already satisfied: numpy in c:\\users\\monster\\anaconda3\\lib\\site-packages (1.25.2)\n",
      "Note: you may need to restart the kernel to use updated packages.\n"
     ]
    }
   ],
   "source": [
    "pip install numpy --upgrade --user\n"
   ]
  },
  {
   "cell_type": "code",
   "execution_count": 5,
   "id": "e01787ea",
   "metadata": {
    "scrolled": false
   },
   "outputs": [
    {
     "name": "stdout",
     "output_type": "stream",
     "text": [
      "Requirement already satisfied: numpy==1.23.0 in c:\\users\\monster\\anaconda3\\lib\\site-packages (1.23.0)\n",
      "Note: you may need to restart the kernel to use updated packages.\n"
     ]
    }
   ],
   "source": [
    "pip install numpy==1.23.0 --user\n"
   ]
  },
  {
   "cell_type": "code",
   "execution_count": 6,
   "id": "10b71869",
   "metadata": {},
   "outputs": [],
   "source": [
    "import mediapipe as mp"
   ]
  },
  {
   "cell_type": "code",
   "execution_count": 7,
   "id": "3b2c346b",
   "metadata": {},
   "outputs": [],
   "source": [
    "import cv2\n",
    "import time"
   ]
  },
  {
   "cell_type": "markdown",
   "id": "3e0bc33e",
   "metadata": {},
   "source": [
    "## 1. Face Mesh"
   ]
  },
  {
   "cell_type": "code",
   "execution_count": 13,
   "id": "efe62181",
   "metadata": {},
   "outputs": [],
   "source": [
    "mp_face_mesh = mp.solutions.face_mesh\n",
    "mp_drawing = mp.solutions.drawing_utils\n",
    "drawing_spec = mp_drawing.DrawingSpec(thickness = 1, circle_radius = 1)\n",
    "\n",
    "cap = cv2.VideoCapture(\"face.mp4\")\n",
    "\n",
    "with mp_face_mesh.FaceMesh(min_detection_confidence = 0.5,\n",
    "                           min_tracking_confidence = 0.5) as face_mesh:\n",
    "\n",
    "    while cap.isOpened():\n",
    "        ret,frame = cap.read()\n",
    "        start = time.time()\n",
    "        \n",
    "        frame = cv2.cvtColor(frame, cv2.COLOR_BGR2RGB)\n",
    "        mesh = face_mesh.process(frame)\n",
    "        frame = cv2.cvtColor(frame, cv2.COLOR_RGB2BGR)\n",
    "        \n",
    "        if mesh.multi_face_landmarks:\n",
    "            for face_landmarks in mesh.multi_face_landmarks:\n",
    "                mp_drawing.draw_landmarks(image = frame,\n",
    "                                          landmark_list = face_landmarks,\n",
    "                                          connections = mp_face_mesh.FACEMESH_TESSELATION,\n",
    "                                          landmark_drawing_spec = drawing_spec,\n",
    "                                          connection_drawing_spec = drawing_spec)\n",
    "        \n",
    "        end = time.time()\n",
    "        total_time = end - start\n",
    "        \n",
    "        if total_time == 0:\n",
    "            total_time = 1\n",
    "        \n",
    "        fps = 1/total_time\n",
    "                                          \n",
    "        cv2.putText(frame, \n",
    "                    f\"FPS:{int(fps)}\", \n",
    "                    (30,90), \n",
    "                    cv2.FONT_HERSHEY_SIMPLEX,\n",
    "                    1.2,\n",
    "                    (0,255,0),\n",
    "                    2)\n",
    "                                          \n",
    "        cv2.imshow(\"Camera\",frame)\n",
    "        if cv2.waitKey(10) & 0xFF==ord(\"q\"):\n",
    "            break\n",
    "        \n",
    "cap.release()\n",
    "cv2.destroyAllWindows()\n",
    "    "
   ]
  },
  {
   "cell_type": "markdown",
   "id": "19ee6472",
   "metadata": {},
   "source": [
    "## Hand Pose Estimation\n"
   ]
  },
  {
   "cell_type": "code",
   "execution_count": 17,
   "id": "7723d31b",
   "metadata": {},
   "outputs": [],
   "source": [
    "mp_hands = mp.solutions.hands\n",
    "mp_drawing = mp.solutions.drawing_utils\n",
    "\n",
    "cap = cv2.VideoCapture(\"hand.mp4\")\n",
    "\n",
    "with mp_hands.Hands(min_detection_confidence = 0.5,\n",
    "                           min_tracking_confidence = 0.5) as hands:\n",
    "\n",
    "    while cap.isOpened():\n",
    "        ret,frame = cap.read()\n",
    "        start = time.time()\n",
    "        \n",
    "        frame = cv2.cvtColor(frame, cv2.COLOR_BGR2RGB)\n",
    "        mesh = hands.process(frame)\n",
    "        frame = cv2.cvtColor(frame, cv2.COLOR_RGB2BGR)\n",
    "        \n",
    "        if mesh.multi_hand_landmarks:\n",
    "            for hand_landmarks in mesh.multi_hand_landmarks:\n",
    "                mp_drawing.draw_landmarks(image = frame,\n",
    "                                          landmark_list = hand_landmarks,\n",
    "                                          connections = mp_hand.HAND_CONNECTIONS)\n",
    "        \n",
    "        end = time.time()\n",
    "        total_time = end - start\n",
    "        \n",
    "        if total_time == 0:\n",
    "            total_time = 1\n",
    "        \n",
    "        fps = 1/total_time\n",
    "                                          \n",
    "        cv2.putText(frame, \n",
    "                    f\"FPS:{int(fps)}\", \n",
    "                    (30,90), \n",
    "                    cv2.FONT_HERSHEY_SIMPLEX,\n",
    "                    1.2,\n",
    "                    (0,255,0),\n",
    "                    2)\n",
    "                                          \n",
    "        cv2.imshow(\"Camera\",frame)\n",
    "        if cv2.waitKey(10) & 0xFF==ord(\"q\"):\n",
    "            break\n",
    "        \n",
    "cap.release()\n",
    "cv2.destroyAllWindows()"
   ]
  },
  {
   "cell_type": "markdown",
   "id": "93f2c9e5",
   "metadata": {},
   "source": [
    "## Pose Estimation"
   ]
  },
  {
   "cell_type": "code",
   "execution_count": 23,
   "id": "82dcbee7",
   "metadata": {},
   "outputs": [],
   "source": [
    "mp_pose = mp.solutions.pose\n",
    "mp_drawing = mp.solutions.drawing_utils\n",
    "mp_drawing_styles = mp.solutions.drawing_styles\n",
    "\n",
    "cap = cv2.VideoCapture(\"2.mp4\")\n",
    "\n",
    "with mp_pose.Pose(min_detection_confidence = 0.5,\n",
    "                           min_tracking_confidence = 0.5) as pose:\n",
    "\n",
    "    while cap.isOpened():\n",
    "        ret,frame = cap.read()\n",
    "\n",
    "        start = time.time()\n",
    "        \n",
    "        frame = cv2.cvtColor(frame, cv2.COLOR_BGR2RGB)\n",
    "        result = pose.process(frame)\n",
    "        frame = cv2.cvtColor(frame, cv2.COLOR_RGB2BGR)\n",
    "         \n",
    "        mp_drawing.draw_landmarks(frame,\n",
    "                                  result.pose_landmarks,\n",
    "                                  mp_pose.POSE_CONNECTIONS,\n",
    "                                  landmark_drawing_spec = mp_drawing_styles.get_default_pose_landmarks_style())\n",
    "                            \n",
    "        end = time.time()\n",
    "        total_time = end - start\n",
    "        \n",
    "        if total_time == 0:\n",
    "            total_time = 1\n",
    "        \n",
    "        fps = 1/total_time\n",
    "                                          \n",
    "        cv2.putText(frame, \n",
    "                    f\"FPS:{int(fps)}\", \n",
    "                    (30,90), \n",
    "                    cv2.FONT_HERSHEY_SIMPLEX,\n",
    "                    1.2,\n",
    "                    (0,255,0),\n",
    "                    2)\n",
    "                                          \n",
    "        cv2.imshow(\"Camera\",frame)\n",
    "        if cv2.waitKey(10) & 0xFF==ord(\"q\"):\n",
    "            break\n",
    "        \n",
    "cap.release()\n",
    "cv2.destroyAllWindows()"
   ]
  },
  {
   "cell_type": "code",
   "execution_count": null,
   "id": "fa4a6ebd",
   "metadata": {},
   "outputs": [],
   "source": []
  }
 ],
 "metadata": {
  "kernelspec": {
   "display_name": "Python 3 (ipykernel)",
   "language": "python",
   "name": "python3"
  },
  "language_info": {
   "codemirror_mode": {
    "name": "ipython",
    "version": 3
   },
   "file_extension": ".py",
   "mimetype": "text/x-python",
   "name": "python",
   "nbconvert_exporter": "python",
   "pygments_lexer": "ipython3",
   "version": "3.9.7"
  }
 },
 "nbformat": 4,
 "nbformat_minor": 5
}
